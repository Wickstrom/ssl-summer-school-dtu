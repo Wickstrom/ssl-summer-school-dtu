{
  "nbformat": 4,
  "nbformat_minor": 0,
  "metadata": {
    "colab": {
      "provenance": [],
      "machine_shape": "hm",
      "gpuType": "A100",
      "authorship_tag": "ABX9TyPq3IyxWWsdBSw/5PAPrbap",
      "include_colab_link": true
    },
    "kernelspec": {
      "name": "python3",
      "display_name": "Python 3"
    },
    "language_info": {
      "name": "python"
    },
    "accelerator": "GPU"
  },
  "cells": [
    {
      "cell_type": "markdown",
      "metadata": {
        "id": "view-in-github",
        "colab_type": "text"
      },
      "source": [
        "<a href=\"https://colab.research.google.com/github/Wickstrom/ssl-summer-school-dtu/blob/main/SecretBinaryMessage.ipynb\" target=\"_parent\"><img src=\"https://colab.research.google.com/assets/colab-badge.svg\" alt=\"Open In Colab\"/></a>"
      ]
    },
    {
      "cell_type": "code",
      "source": [
        "#@title generate secret message (this takes a little while).\n",
        "\n",
        "indices_of_secret_message = [740, 192, 1009, 394, 831, 481, 335, 1015, 1025, 166, 747, 361, 32, 142, 962, 1006, 333, 398, 1022, 178, 868, 292, 734, 64, 147, 377, 236, 347, 773, 594, 446, 795, 849, 304, 388, 588, 710, 171, 622, 517, 716, 534, 977, 513, 16, 605, 1021, 796, 196, 909, 626, 152, 142, 716, 1004, 515, 112, 1000, 68, 388, 198, 228, 486, 509, 629, 854, 149, 12, 776, 695, 940, 748, 146, 995, 730, 749, 819, 561, 511, 377, 97, 467, 637, 478, 835, 900, 990, 320, 365, 841, 749, 86, 987, 173, 365, 362, 477, 484, 646, 565, 168, 893, 789, 915, 577, 562, 616, 66, 160, 729, 863, 427, 326, 880, 373, 153, 32, 155, 350, 857, 866, 652, 109, 867, 91, 384, 1010, 571, 307, 839, 179, 142, 383, 672, 918, 333, 273, 572, 22, 854, 70, 751, 50, 247, 112, 362, 381, 638, 923, 892, 162, 656, 1011, 266, 931, 620, 447, 567, 392, 140, 769, 669, 802, 372, 730, 661, 739, 921, 572, 1020, 324, 553, 989, 478, 437, 1031, 718, 320, 997, 419, 365, 892, 589, 908, 328, 523, 993, 748, 39, 689, 873, 775, 179, 477, 909, 791, 163, 670, 121, 54, 172, 362, 311, 984, 947, 475, 696, 688, 948, 753, 875, 500, 146, 412, 943, 938, 326, 157, 1026, 268, 348, 237, 266, 365, 548, 874, 225, 353, 475, 421, 532, 949, 932, 800, 406, 1025, 178, 770, 935, 860, 742, 333, 839, 112, 28, 950, 691, 666, 53, 750, 347, 914, 567, 684, 149, 533, 831, 188, 756, 965, 992, 90, 493, 693, 705, 286, 70, 1044, 57, 192, 385, 22, 18, 736, 668, 847, 363, 862, 625, 680, 511, 775, 451, 632, 532, 993, 813, 918, 804, 490, 352, 522, 338, 761, 597, 899, 40, 910, 714, 698, 281, 1044, 866, 403, 383, 1043, 314, 265, 381, 896, 225, 277, 108, 323, 413, 581, 799, 408, 1049, 885, 161, 810, 707, 522, 775, 942, 395, 411, 847, 226, 507, 289, 301, 364, 109, 411, 1008, 575, 417, 821, 457, 314, 453, 583, 974, 131, 18, 705, 417, 723, 1023, 800, 388, 485, 472, 275, 941, 552, 778, 1043, 121, 332, 969, 203, 858, 746, 520, 453, 1047, 379, 339, 400, 702, 380, 195, 188, 379, 188, 696, 677, 662, 160, 945, 873, 835, 633, 638, 450, 715, 22, 184, 837, 629, 1021, 673, 302, 941, 38, 416, 853, 916, 55, 1036, 49, 34, 179, 168, 506, 122, 290, 193, 4, 6, 694, 610, 144, 12, 479, 155, 550, 261, 765, 408, 371, 454, 99, 392, 988, 697, 271, 973, 912, 62, 622, 891, 727, 369, 653, 852, 898, 606, 827, 911, 131, 878, 898, 548, 219, 617, 902, 235, 722, 798, 528, 930, 839, 971, 767, 47, 495, 354, 487, 691, 866, 454, 538, 880, 937, 722, 595, 521, 472, 800, 517, 1025, 469, 638, 884, 332, 638, 721, 897, 967, 1038, 490, 813, 88, 754, 152, 788, 1007, 830, 694, 288, 471, 691, 714, 273, 669, 75, 28, 129, 101, 306, 584, 969, 193, 674, 596, 248, 207, 703, 728, 162, 346, 57, 385, 636, 772, 521, 110, 687, 548, 763, 413, 935, 814, 315, 132, 691, 493, 968, 520, 720, 798, 351, 842, 460, 1021, 765, 794, 244, 556, 728, 914, 757, 589, 616, 503, 98, 111, 509, 347]\n",
        "\n",
        "import torch\n",
        "\n",
        "from torchvision.datasets import MNIST\n",
        "from torchvision.transforms import ToTensor\n",
        "from torch.utils.data import DataLoader, TensorDataset\n",
        "\n",
        "training_data = MNIST('/sample_data/', train=True, download=True, transform=ToTensor())\n",
        "all_test_data = MNIST('/sample_data/', train=False, download=True, transform=ToTensor())\n",
        "validation_data, test_data = torch.utils.data.random_split(all_test_data, [5000, 5000])\n",
        "\n",
        "training_loader = DataLoader(training_data, shuffle=False, batch_size=1)\n",
        "validation_loader = DataLoader(validation_data, shuffle=False, batch_size=1)\n",
        "test_loader = DataLoader(test_data, shuffle=False, batch_size=1)\n",
        "\n",
        "binary_training_images = []\n",
        "binary_training_labels = []\n",
        "\n",
        "binary_validation_images = []\n",
        "binary_validation_labels = []\n",
        "\n",
        "binary_test_images = []\n",
        "binary_test_labels = []\n",
        "\n",
        "for x, y in training_loader:\n",
        "    if y.item() == 0:\n",
        "        binary_training_images.append(x)\n",
        "        binary_training_labels.append(y)\n",
        "\n",
        "for x, y in training_loader:\n",
        "    if y.item() == 1:\n",
        "        binary_training_images.append(x)\n",
        "        binary_training_labels.append(y)\n",
        "\n",
        "for x, y in validation_loader:\n",
        "    if y.item() == 0:\n",
        "        binary_validation_images.append(x)\n",
        "        binary_validation_labels.append(y)\n",
        "\n",
        "for x, y in validation_loader:\n",
        "    if y.item() == 1:\n",
        "        binary_validation_images.append(x)\n",
        "        binary_validation_labels.append(y)\n",
        "\n",
        "for x, y in test_loader:\n",
        "    if y.item() == 0:\n",
        "        binary_test_images.append(x)\n",
        "        binary_test_labels.append(y)\n",
        "\n",
        "for x, y in test_loader:\n",
        "    if y.item() == 1:\n",
        "        binary_test_images.append(x)\n",
        "        binary_test_labels.append(y)\n",
        "\n",
        "binary_training_data = TensorDataset(torch.cat(binary_training_images), torch.cat(binary_training_labels))\n",
        "binary_validation_data = TensorDataset(torch.cat(binary_validation_images), torch.cat(binary_validation_labels))\n",
        "binary_test_data = TensorDataset(torch.cat(binary_test_images), torch.cat(binary_test_labels))\n",
        "\n",
        "binary_training_loader = DataLoader(binary_training_data, shuffle=True, batch_size=100)\n",
        "binary_validation_loader = DataLoader(binary_validation_data, shuffle=False, batch_size=1)\n",
        "binary_test_loader = DataLoader(binary_test_data, shuffle=False, drop_last=False, batch_size=100)\n",
        "\n",
        "import matplotlib.pyplot as plt\n",
        "\n",
        "plt.figure(figsize=(10,10))\n",
        "\n",
        "for counter in range(6):\n",
        "    secret_message_component_i = indices_of_secret_message[counter]\n",
        "    plt.subplot(1, 6, counter+1)\n",
        "    plt.imshow(binary_validation_data.tensors[0][secret_message_component_i].squeeze())\n",
        "    plt.axis('off')\n",
        "\n",
        "plt.show()\n"
      ],
      "metadata": {
        "colab": {
          "base_uri": "https://localhost:8080/",
          "height": 147
        },
        "id": "zVAMG6MppFKL",
        "outputId": "0f531807-791c-4b35-a4b7-307438efb4b9"
      },
      "execution_count": null,
      "outputs": [
        {
          "output_type": "display_data",
          "data": {
            "text/plain": [
              "<Figure size 1000x1000 with 6 Axes>"
            ],
            "image/png": "[encoded data removed]"
          },
          "metadata": {}
        }
      ]
    },
    {
      "cell_type": "code",
      "source": [
        "#@title Create AI to solve task and train it.\n",
        "\n",
        "import torchvision\n",
        "import numpy as np\n",
        "\n",
        "class LeNet(torch.nn.Module):\n",
        "    \"\"\"Network architecture from: https://github.com/ChawDoe/LeNet5-MNIST-PyTorch.\"\"\"\n",
        "    def __init__(self):\n",
        "        super().__init__()\n",
        "        self.conv_1 = torch.nn.Conv2d(1, 25, 5)\n",
        "        self.pool_1 = torch.nn.MaxPool2d(2, 2)\n",
        "        self.relu_1 = torch.nn.ReLU()\n",
        "        self.conv_2 = torch.nn.Conv2d(25, 50, 5)\n",
        "        self.pool_2 = torch.nn.MaxPool2d(2, 2)\n",
        "        self.relu_2 = torch.nn.ReLU()\n",
        "        self.fc_1 = torch.nn.Linear(800, 120)\n",
        "        self.relu_3 = torch.nn.ReLU()\n",
        "        self.fc_2 = torch.nn.Linear(120, 84)\n",
        "        self.relu_4 = torch.nn.ReLU()\n",
        "        self.fc_3 = torch.nn.Linear(84, 2)\n",
        "\n",
        "    def forward(self, x):\n",
        "        x = self.pool_1(self.relu_1(self.conv_1(x)))\n",
        "        x = self.pool_2(self.relu_2(self.conv_2(x)))\n",
        "        x = x.view(x.shape[0], -1)\n",
        "        x = self.relu_3(self.fc_1(x))\n",
        "        x = self.relu_4(self.fc_2(x))\n",
        "        x = self.fc_3(x)\n",
        "        return x\n",
        "\n",
        "    def softmax_forward(self, x):\n",
        "        x = x.unsqueeze(0)\n",
        "        return torch.nn.functional.softmax(self.forward(x), dim=1)\n",
        "\n",
        "model = LeNet()\n",
        "\n",
        "def train_model(model,\n",
        "                train_data: torchvision.datasets,\n",
        "                test_data: torchvision.datasets,\n",
        "                device: torch.device,\n",
        "                epochs: int,\n",
        "                criterion: torch.nn,\n",
        "                optimizer: torch.optim,\n",
        "                evaluate: bool):\n",
        "    \"\"\"Train torch model.\"\"\"\n",
        "\n",
        "    model.train()\n",
        "\n",
        "    for epoch in range(epochs):\n",
        "\n",
        "        for images, labels in train_data:\n",
        "            images, labels = images.to(device), labels.to(device)\n",
        "\n",
        "            optimizer.zero_grad()\n",
        "\n",
        "            logits = model(images)\n",
        "            loss = criterion(logits, labels)\n",
        "            loss.backward()\n",
        "            optimizer.step()\n",
        "\n",
        "        # Evaluate model!\n",
        "        if evaluate:\n",
        "            predictions, labels = evaluate_model(model, test_data, device)\n",
        "            test_acc = np.mean(np.argmax(predictions.cpu().numpy(), axis=1) == labels.cpu().numpy())\n",
        "\n",
        "        print(f\"Epoch {epoch+1}/{epochs} - test accuracy: {(100 * test_acc):.2f}% and CE loss {loss.item():.2f}\")\n",
        "\n",
        "    return model\n",
        "\n",
        "def evaluate_model(model, data, device):\n",
        "    \"\"\"Evaluate torch model.\"\"\"\n",
        "    model.eval()\n",
        "    logits = torch.Tensor().to(device)\n",
        "    targets = torch.LongTensor().to(device)\n",
        "\n",
        "    with torch.no_grad():\n",
        "        for images, labels in data:\n",
        "            images, labels = images.to(device), labels.to(device)\n",
        "            logits = torch.cat([logits, model(images)])\n",
        "            targets = torch.cat([targets, labels])\n",
        "\n",
        "    return torch.nn.functional.softmax(logits, dim=1), targets\n",
        "\n",
        "device = torch.device('cuda' if torch.cuda.is_available() else 'cpu')\n",
        "\n",
        "model = train_model(model=model.to(device),\n",
        "                    train_data=binary_training_loader,\n",
        "                    test_data=binary_test_loader,\n",
        "                    device=device,\n",
        "                    epochs=10,\n",
        "                    criterion=torch.nn.CrossEntropyLoss().to(device),\n",
        "                    optimizer=torch.optim.Adam(model.parameters()),\n",
        "                    evaluate=True)\n",
        "\n",
        "# Model to GPU and eval mode.\n",
        "model.to(device)\n",
        "model.eval()\n",
        "\n",
        "# Check test set performance.\n",
        "predictions, labels = evaluate_model(model, binary_test_loader, device)\n",
        "test_acc = np.mean(np.argmax(predictions.cpu().numpy(), axis=1) == labels.cpu().numpy())\n",
        "print(f\"Model test accuracy: {(100 * test_acc):.2f}%\")"
      ],
      "metadata": {
        "id": "xyzzPbV4LYro",
        "colab": {
          "base_uri": "https://localhost:8080/"
        },
        "outputId": "fc1cb935-315e-462e-8fdc-f275e08033df"
      },
      "execution_count": null,
      "outputs": [
        {
          "output_type": "stream",
          "name": "stdout",
          "text": [
            "Epoch 1/10 - test accuracy: 99.90% and CE loss 0.00\n",
            "Epoch 2/10 - test accuracy: 100.00% and CE loss 0.00\n",
            "Epoch 3/10 - test accuracy: 99.90% and CE loss 0.00\n",
            "Epoch 4/10 - test accuracy: 100.00% and CE loss 0.00\n",
            "Epoch 5/10 - test accuracy: 100.00% and CE loss 0.00\n",
            "Epoch 6/10 - test accuracy: 99.90% and CE loss 0.00\n",
            "Epoch 7/10 - test accuracy: 100.00% and CE loss 0.00\n",
            "Epoch 8/10 - test accuracy: 100.00% and CE loss 0.00\n",
            "Epoch 9/10 - test accuracy: 100.00% and CE loss 0.00\n",
            "Epoch 10/10 - test accuracy: 100.00% and CE loss 0.00\n",
            "Model test accuracy: 100.00%\n"
          ]
        }
      ]
    },
    {
      "cell_type": "code",
      "source": [
        "#@title Funksjoner for å klassifisere og vise bilder.\n",
        "\n",
        "def classify_image(index_of_image_in_database):\n",
        "    componenent_to_decode = binary_validation_data.tensors[0][index_of_image_in_database].unsqueeze(0)\n",
        "    predicted_component = model(componenent_to_decode.to(device)).argmax(1).item()\n",
        "    return predicted_component\n",
        "\n",
        "def plot_image(index_of_image_in_database):\n",
        "    plt.figure(1)\n",
        "    plt.imshow(binary_validation_data.tensors[0][index_of_image_in_database].squeeze())\n",
        "    plt.axis('off')\n",
        "    plt.show()\n"
      ],
      "metadata": {
        "id": "aJ-ToSCmPGg4"
      },
      "execution_count": null,
      "outputs": []
    },
    {
      "cell_type": "code",
      "source": [
        "#@title Første oppgave: ta et element fra listen \"indices_of_secret_message\" og putt det inn i funksjonen \"classify_image\"\n"
      ],
      "metadata": {
        "id": "Q3WMoTNBO6G2"
      },
      "execution_count": null,
      "outputs": []
    },
    {
      "cell_type": "code",
      "source": [
        "#@title Andre oppgave: ta et element fra listen \"indices_of_secret_message\" og putt det inn i funksjonen \"plot_image\"\n"
      ],
      "metadata": {
        "id": "64tB5wvwRtyh"
      },
      "execution_count": null,
      "outputs": []
    },
    {
      "cell_type": "code",
      "source": [
        "#@title Tredje oppgave: klassifiser alle bildene i \"indices_of_secret_message\"\n",
        "\n",
        "# Dette er en litt vanskeligere oppgave. Først, lag en tom list, f.eks.\n",
        "# \"classified_images = []\". Deretter, lag en for loop som går\n",
        "# igjennom hele listen \"indices_of_secret_message\". For hvert element i listen,\n",
        "# bruk funksjonen \"classify_image\" og append resultatet til \"classified_images\".\n"
      ],
      "metadata": {
        "id": "hnG6b-YuQDHW"
      },
      "execution_count": null,
      "outputs": []
    },
    {
      "cell_type": "code",
      "source": [
        "#@title Funksjoner for å konvertere til en binær beskjed og for å konvertere fra binær til tekst.\n",
        "\n",
        "def convert_classified_images_to_binary_message(classified_images):\n",
        "    binary_secret_message = ''\n",
        "\n",
        "    for counter, secret_message_component_i in enumerate(classified_images):\n",
        "        if counter % 7 == 0 and counter != 0:\n",
        "            binary_secret_message = binary_secret_message + ' '\n",
        "            binary_secret_message = binary_secret_message + str(secret_message_component_i)\n",
        "        else:\n",
        "            binary_secret_message = binary_secret_message + str(secret_message_component_i)\n",
        "    return binary_secret_message\n",
        "\n",
        "def binary_to_string(binary_string):\n",
        "    return ''.join(chr(int(x, 2)) for x in binary_string.split())\n"
      ],
      "metadata": {
        "id": "960i4wlwStqo"
      },
      "execution_count": null,
      "outputs": []
    },
    {
      "cell_type": "code",
      "source": [
        "#@title Fjerde oppgave: konverter \"binary_secret_message\" inn i convert_classified_images_to_binary_message\n",
        "\n",
        "# Dette er en litt vanskeligere oppgave. Først, lag en tom list, f.eks.\n",
        "# \"binary_secret_message = []\". Deretter, lag en for loop som går\n",
        "# igjennom hele listen \"indices_of_secret_message\". For hvert element i listen,\n",
        "# bruk funksjonen \"classify_image\" og append resultatet til \"binary_secret_message\".\n",
        "\n"
      ],
      "metadata": {
        "id": "1MeoFbjDT1an"
      },
      "execution_count": null,
      "outputs": []
    },
    {
      "cell_type": "code",
      "source": [
        "#@title Siste oppgave: dekod den hemmelige beskjed ved å bruke \"binary_to_string\" funksjonen.\n",
        "\n",
        "# Hva er den hemmelige beskjeden? Kanskje du må bruke Google for å få hint til\n",
        "# hva beskjeden sikter til.\n",
        "\n",
        "# Tips: Det er ikke sikkert AIen gjør en perfekt jobb, og noen deler av koden\n",
        "# kan være feil-klassifisert.\n",
        "\n"
      ],
      "metadata": {
        "id": "k-LlNuD3capG"
      },
      "execution_count": null,
      "outputs": []
    },
    {
      "cell_type": "code",
      "source": [],
      "metadata": {
        "id": "uQFqR6QHWV64"
      },
      "execution_count": null,
      "outputs": []
    }
  ]
}