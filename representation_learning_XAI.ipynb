{
  "nbformat": 4,
  "nbformat_minor": 0,
  "metadata": {
    "colab": {
      "provenance": []
    },
    "kernelspec": {
      "name": "python3",
      "display_name": "Python 3"
    },
    "accelerator": "GPU"
  },
  "cells": [
    {
      "cell_type": "markdown",
      "metadata": {
        "id": "FpBQPnfijzuV"
      },
      "source": [
        "# RELAX: Representation Learning Explainability\n",
        "\n",
        "This notebook contains pre-made code for the explainable machine learning exercises at the 2023 DTU summer school on self-supervised learning and illustrates the usage of RELAX, a framework for explainability in representation learning. RELAX is based on measuring similarities in the representation space between an input and occluded versions of itself. For more information see: https://link.springer.com/article/10.1007/s11263-023-01773-2 (or here https://arxiv.org/abs/2112.10161 if access problems).\n",
        "\n",
        "You are tasked with implementing the main algorithm of RELAX, and to investigate the representation produced by some well-known feature extractors. Remember to enable GPU support to speed up computation (edit -> notebook settings -> hardware accelerator -> GPU)"
      ]
    },
    {
      "cell_type": "code",
      "metadata": {
        "id": "b5qv_BGygpQ7",
        "cellView": "form"
      },
      "source": [
        "#@title Downloading example images from Wikimedia\n",
        "\n",
        "!wget 'https://upload.wikimedia.org/wikipedia/commons/e/ee/Cat_in_Cat_Caf%C3%A9_Nekokaigi%2C_Tokyo%2C_February_2013.jpg'\n",
        "!wget 'https://upload.wikimedia.org/wikipedia/commons/thumb/a/ae/Tringa_totanus-pjt.jpg/640px-Tringa_totanus-pjt.jpg'\n",
        "!wget 'https://upload.wikimedia.org/wikipedia/commons/thumb/e/eb/Two_Cats_in_a_Corner.jpg/640px-Two_Cats_in_a_Corner.jpg'\n",
        "!wget 'https://upload.wikimedia.org/wikipedia/commons/thumb/2/2f/Kerry_Hill_ewe_and_lamb.jpg/540px-Kerry_Hill_ewe_and_lamb.jpg'\n",
        "\n"
      ],
      "execution_count": null,
      "outputs": []
    },
    {
      "cell_type": "code",
      "metadata": {
        "id": "EacfgZmZJrbs",
        "cellView": "form"
      },
      "source": [
        "#@title Loading the necessary packages\n",
        "\n",
        "import torch\n",
        "import torchvision\n",
        "import torch.nn as nn\n",
        "import tqdm.notebook as tqdm\n",
        "import torch.nn.functional as F\n",
        "import matplotlib.pyplot as plt\n",
        "import matplotlib.gridspec as gridspec\n",
        "\n",
        "from PIL import Image\n",
        "from matplotlib import pyplot as plt\n",
        "from torchvision.transforms.functional import pil_to_tensor\n",
        "from torchvision.transforms import ToTensor, Normalize, Resize\n"
      ],
      "execution_count": 72,
      "outputs": []
    },
    {
      "cell_type": "code",
      "metadata": {
        "id": "iUHMgYA00FEj",
        "cellView": "form"
      },
      "source": [
        "#@title Function for rescaling and displaying images\n",
        "#@markdown This function is taken from the TorchRay library (https://github.com/facebookresearch/TorchRay),  and is used to rescale and plot the example with their explanation\n",
        "\n",
        "def imsc(img, *args, quiet=False, lim=None, interpolation='lanczos', **kwargs):\n",
        "    if isinstance(img, Image.Image):\n",
        "        img = pil_to_tensor(img)\n",
        "    handle = None\n",
        "    with torch.no_grad():\n",
        "        if not lim:\n",
        "            lim = [img.min(), img.max()]\n",
        "        img = img - lim[0]  # also makes a copy\n",
        "        img.mul_(1 / (lim[1] - lim[0]))\n",
        "        img = torch.clamp(img, min=0, max=1)\n",
        "        if not quiet:\n",
        "            bitmap = img.expand(3,\n",
        "                                *img.shape[1:]).permute(1, 2, 0).cpu().numpy()\n",
        "    return bitmap"
      ],
      "execution_count": 73,
      "outputs": []
    },
    {
      "cell_type": "code",
      "metadata": {
        "id": "cA6xPGOhUeyU",
        "cellView": "form"
      },
      "source": [
        "#@title Function for loading data\n",
        "#@markdown This function loads the example images downloaded in one of the previous cells.\n",
        "\n",
        "def load_img(img, shape=224):\n",
        "    if img == 'Ex1':\n",
        "        img = Image.open(\n",
        "            '/content/Cat_in_Cat_Café_Nekokaigi,_Tokyo,_February_2013.jpg'\n",
        "            )\n",
        "    elif img == 'Ex2':\n",
        "        img = Image.open(\n",
        "            '/content/640px-Tringa_totanus-pjt.jpg'\n",
        "            )\n",
        "    elif img == 'Ex3':\n",
        "        img = Image.open(\n",
        "            '/content/640px-Two_Cats_in_a_Corner.jpg'\n",
        "            )\n",
        "    elif img == 'Ex4':\n",
        "        img = Image.open(\n",
        "            '/content/540px-Kerry_Hill_ewe_and_lamb.jpg'\n",
        "            )\n",
        "    else:\n",
        "        print('Incorrect keyword')\n",
        "        raise\n",
        "\n",
        "    transform = torchvision.transforms.Compose([\n",
        "        torchvision.transforms.Resize((shape, shape)),\n",
        "        torchvision.transforms.ToTensor(),\n",
        "        torchvision.transforms.Normalize(mean=[0.485, 0.456, 0.406],\n",
        "                                         std=[0.229, 0.224, 0.225]),\n",
        "    ])\n",
        "\n",
        "    x = transform(img).unsqueeze(0)\n",
        "\n",
        "    return x.to('cuda')\n",
        "\n",
        "plt.figure(1)\n",
        "plt.subplot(141)\n",
        "plt.imshow(imsc(load_img('Ex1').squeeze(0)))\n",
        "plt.axis('off')\n",
        "plt.title('Ex1')\n",
        "plt.subplot(142)\n",
        "plt.imshow(imsc(load_img('Ex2').squeeze(0)))\n",
        "plt.axis('off')\n",
        "plt.title('Ex2')\n",
        "plt.subplot(143)\n",
        "plt.imshow(imsc(load_img('Ex3').squeeze(0)))\n",
        "plt.axis('off')\n",
        "plt.title('Ex3')\n",
        "plt.subplot(144)\n",
        "plt.imshow(imsc(load_img('Ex4').squeeze(0)))\n",
        "plt.axis('off')\n",
        "plt.title('Ex4')\n",
        "plt.tight_layout()\n",
        "plt.show()"
      ],
      "execution_count": null,
      "outputs": []
    },
    {
      "cell_type": "code",
      "metadata": {
        "id": "E0m7FdHHj7Ss",
        "cellView": "form"
      },
      "source": [
        "#@title Load feature extractors\n",
        "#@markdown This cell contain the functions for loading the feature extractors used\n",
        "#@markdown in this notebook. An image is represented by the output of the\n",
        "#@markdown adaptive pooling layer of a ResNet50 and the Alexnet.\n",
        "\n",
        "def load_resnet50():\n",
        "  resnet50 = torchvision.models.resnet50(weights=\"DEFAULT\")\n",
        "  modules = list(resnet50.children())[:-1]\n",
        "  encoder = nn.Sequential(*modules, nn.Flatten()).to('cuda')\n",
        "  encoder.eval()\n",
        "  return encoder\n",
        "\n",
        "def load_alexnet():\n",
        "  alexnet = torchvision.models.alexnet(weights=\"DEFAULT\")\n",
        "  encoder = nn.Sequential(alexnet.features,\n",
        "                          nn.AdaptiveAvgPool2d(output_size=(1, 1)),\n",
        "                          nn.Flatten()).to('cuda')\n",
        "  encoder.eval()\n",
        "  return encoder\n"
      ],
      "execution_count": 75,
      "outputs": []
    },
    {
      "cell_type": "code",
      "metadata": {
        "id": "oJnKR-1nmviM",
        "cellView": "form"
      },
      "source": [
        "#@title Generator for masks\n",
        "#@markdown This cell contains a generator that will generate random masks following the procdure\n",
        "#@markdown developed for the RISE algorithm (https://arxiv.org/abs/1806.07421)\n",
        "#@markdown and used in RELAX. It also contains an example of how to use it.\n",
        "\n",
        "def MaskGenerator(num_batches, mask_bs, inp_shape=224, num_cells=7, p=0.5, nsd=2, dev='cuda'):\n",
        "    for batch_i in range(num_batches):\n",
        "\n",
        "        pad_size = (num_cells // 2, num_cells // 2, num_cells // 2, num_cells // 2)\n",
        "        grid = (torch.rand(mask_bs, 1, *((num_cells,) * nsd), device=dev) < p).float()\n",
        "\n",
        "        grid_up = F.interpolate(grid, size=(inp_shape), mode='bilinear', align_corners=False)\n",
        "        grid_up = F.pad(grid_up, pad_size, mode='reflect')\n",
        "\n",
        "        shift_x = torch.randint(0, num_cells, (mask_bs,), device='cpu')\n",
        "        shift_y = torch.randint(0, num_cells, (mask_bs,), device='cpu')\n",
        "\n",
        "        masks = torch.empty((mask_bs, 1, inp_shape, inp_shape), device=dev)\n",
        "\n",
        "        for i in range(mask_bs):\n",
        "            masks[i] = grid_up[i, :,\n",
        "                               shift_x[i]:shift_x[i] + inp_shape,\n",
        "                               shift_y[i]:shift_y[i] + inp_shape]\n",
        "\n",
        "        yield masks\n",
        "\n",
        "example_image_1 = load_img('Ex1')\n",
        "\n",
        "plt.figure(1)\n",
        "for batch_i, mask in enumerate(MaskGenerator(num_batches=2, mask_bs=3)):\n",
        "  print(f\"Batch {batch_i+1} of masked images.\")\n",
        "  example_image_1_masked = example_image_1*mask\n",
        "  plt.subplot(1,3,1)\n",
        "  plt.imshow(imsc(example_image_1_masked[0]))\n",
        "  plt.axis('off')\n",
        "  plt.subplot(1,3,2)\n",
        "  plt.imshow(imsc(example_image_1_masked[1]))\n",
        "  plt.axis('off')\n",
        "  plt.subplot(1,3,3)\n",
        "  plt.imshow(imsc(example_image_1_masked[2]))\n",
        "  plt.axis('off')\n",
        "  plt.tight_layout()\n",
        "  plt.show()\n"
      ],
      "execution_count": null,
      "outputs": []
    },
    {
      "cell_type": "code",
      "metadata": {
        "cellView": "form",
        "id": "5wxPrEmmkZ6w"
      },
      "source": [
        "#@title Implement RELAX\n",
        "\n",
        "\n"
      ],
      "execution_count": null,
      "outputs": []
    }
  ]
}